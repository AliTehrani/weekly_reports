{
 "metadata": {
  "name": ""
 },
 "nbformat": 3,
 "nbformat_minor": 0,
 "worksheets": [
  {
   "cells": [
    {
     "cell_type": "heading",
     "level": 1,
     "metadata": {},
     "source": [
      "April 25 14"
     ]
    },
    {
     "cell_type": "markdown",
     "metadata": {},
     "source": [
      "Tried simulation with a population size different from swarmSize."
     ]
    },
    {
     "cell_type": "code",
     "collapsed": false,
     "input": [
      "import pandas as pd\n",
      "\n",
      "fly_data = pd.read_csv(\"LOD.csv\") \n",
      "\n",
      "fly_data.describe()"
     ],
     "language": "python",
     "metadata": {},
     "outputs": [
      {
       "html": [
        "<div style=\"max-height:1000px;max-width:1500px;overflow:auto;\">\n",
        "<table border=\"1\" class=\"dataframe\">\n",
        "  <thead>\n",
        "    <tr style=\"text-align: right;\">\n",
        "      <th></th>\n",
        "      <th>generation</th>\n",
        "      <th>fitness</th>\n",
        "      <th>num_collisions</th>\n",
        "    </tr>\n",
        "  </thead>\n",
        "  <tbody>\n",
        "    <tr>\n",
        "      <th>count</th>\n",
        "      <td> 100001.000000</td>\n",
        "      <td> 100001.000000</td>\n",
        "      <td> 100001.000000</td>\n",
        "    </tr>\n",
        "    <tr>\n",
        "      <th>mean</th>\n",
        "      <td>  50001.000000</td>\n",
        "      <td>   1492.994914</td>\n",
        "      <td>   4357.551444</td>\n",
        "    </tr>\n",
        "    <tr>\n",
        "      <th>std</th>\n",
        "      <td>  28867.946472</td>\n",
        "      <td>     67.792942</td>\n",
        "      <td>   3671.599599</td>\n",
        "    </tr>\n",
        "    <tr>\n",
        "      <th>min</th>\n",
        "      <td>      1.000000</td>\n",
        "      <td>    734.630000</td>\n",
        "      <td>   2119.000000</td>\n",
        "    </tr>\n",
        "    <tr>\n",
        "      <th>25%</th>\n",
        "      <td>  25001.000000</td>\n",
        "      <td>   1447.845000</td>\n",
        "      <td>   3974.000000</td>\n",
        "    </tr>\n",
        "    <tr>\n",
        "      <th>50%</th>\n",
        "      <td>  50001.000000</td>\n",
        "      <td>   1490.715000</td>\n",
        "      <td>   4177.000000</td>\n",
        "    </tr>\n",
        "    <tr>\n",
        "      <th>75%</th>\n",
        "      <td>  75001.000000</td>\n",
        "      <td>   1535.350000</td>\n",
        "      <td>   4398.000000</td>\n",
        "    </tr>\n",
        "    <tr>\n",
        "      <th>max</th>\n",
        "      <td> 100001.000000</td>\n",
        "      <td>   1768.715000</td>\n",
        "      <td> 447744.000000</td>\n",
        "    </tr>\n",
        "  </tbody>\n",
        "</table>\n",
        "<p>8 rows \u00d7 3 columns</p>\n",
        "</div>"
       ],
       "metadata": {},
       "output_type": "pyout",
       "prompt_number": 4,
       "text": [
        "          generation        fitness  num_collisions\n",
        "count  100001.000000  100001.000000   100001.000000\n",
        "mean    50001.000000    1492.994914     4357.551444\n",
        "std     28867.946472      67.792942     3671.599599\n",
        "min         1.000000     734.630000     2119.000000\n",
        "25%     25001.000000    1447.845000     3974.000000\n",
        "50%     50001.000000    1490.715000     4177.000000\n",
        "75%     75001.000000    1535.350000     4398.000000\n",
        "max    100001.000000    1768.715000   447744.000000\n",
        "\n",
        "[8 rows x 3 columns]"
       ]
      }
     ],
     "prompt_number": 4
    },
    {
     "cell_type": "code",
     "collapsed": false,
     "input": [
      "%matplotlib inline\n",
      "fly_data[\"num_collisions\"].plot()"
     ],
     "language": "python",
     "metadata": {},
     "outputs": [
      {
       "metadata": {},
       "output_type": "pyout",
       "prompt_number": 7,
       "text": [
        "<matplotlib.axes.AxesSubplot at 0xd644080>"
       ]
      },
      {
       "metadata": {},
       "output_type": "display_data",
       "png": "[encoded data removed]",
       "text": [
        "<matplotlib.figure.Figure at 0xd63d9b0>"
       ]
      }
     ],
     "prompt_number": 7
    },
    {
     "cell_type": "markdown",
     "metadata": {},
     "source": [
      "something happened"
     ]
    },
    {
     "cell_type": "code",
     "collapsed": false,
     "input": [],
     "language": "python",
     "metadata": {},
     "outputs": []
    }
   ],
   "metadata": {}
  }
 ]
}